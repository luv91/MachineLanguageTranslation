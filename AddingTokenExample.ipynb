{
 "cells": [
  {
   "cell_type": "code",
   "execution_count": 3,
   "metadata": {},
   "outputs": [],
   "source": [
    "from transformers import DataCollatorWithPadding, AutoTokenizer\n",
    "\n",
    "tokenizer = AutoTokenizer.from_pretrained('bert-base-uncased')\n",
    "\n"
   ]
  },
  {
   "cell_type": "code",
   "execution_count": 4,
   "metadata": {},
   "outputs": [],
   "source": []
  },
  {
   "cell_type": "code",
   "execution_count": 5,
   "metadata": {},
   "outputs": [
    {
     "name": "stdout",
     "output_type": "stream",
     "text": [
      "{'unk_token': '[UNK]', 'sep_token': '[SEP]', 'pad_token': '[PAD]', 'cls_token': '[CLS]', 'mask_token': '[MASK]'}\n"
     ]
    }
   ],
   "source": [
    "print(tokenizer.special_tokens_map)"
   ]
  },
  {
   "cell_type": "code",
   "execution_count": 6,
   "metadata": {},
   "outputs": [
    {
     "name": "stdout",
     "output_type": "stream",
     "text": [
      "We have added 1 tokens\n"
     ]
    }
   ],
   "source": [
    "# adding one special token\n",
    "special_token = \"<s>\"\n",
    "num_added_toks = tokenizer.add_tokens([special_token])\n",
    "print(f\"We have added {num_added_toks} tokens\")"
   ]
  },
  {
   "cell_type": "code",
   "execution_count": 8,
   "metadata": {},
   "outputs": [
    {
     "name": "stdout",
     "output_type": "stream",
     "text": [
      "{'unk_token': '[UNK]', 'sep_token': '[SEP]', 'pad_token': '[PAD]', 'cls_token': '[CLS]', 'mask_token': '[MASK]'}\n"
     ]
    }
   ],
   "source": [
    "print(tokenizer.special_tokens_map)  # still cannot see the added token."
   ]
  },
  {
   "cell_type": "code",
   "execution_count": 9,
   "metadata": {},
   "outputs": [],
   "source": [
    "sequences = [\n",
    "    \"Hello, how are you?\",\n",
    "    \"I'm fine, thank you <s>\",\n",
    "    \"This is an example of different length sentences <s>\",\n",
    "    \"NewYork, what the hell?\",\n",
    "    \"How is everybody doing <s>?\"\n",
    "]"
   ]
  },
  {
   "cell_type": "code",
   "execution_count": 11,
   "metadata": {},
   "outputs": [
    {
     "name": "stdout",
     "output_type": "stream",
     "text": [
      "Encoded Sequence 1: [101, 7592, 1010, 2129, 2024, 2017, 1029, 102]\n",
      "Decoded Sequence 1: [CLS] hello, how are you? [SEP]\n",
      "\n",
      "Encoded Sequence 2: [101, 1045, 1005, 1049, 2986, 1010, 4067, 2017, 30522, 102]\n",
      "Decoded Sequence 2: [CLS] i'm fine, thank you <s> [SEP]\n",
      "\n",
      "Encoded Sequence 3: [101, 2023, 2003, 2019, 2742, 1997, 2367, 3091, 11746, 30522, 102]\n",
      "Decoded Sequence 3: [CLS] this is an example of different length sentences <s> [SEP]\n",
      "\n",
      "Encoded Sequence 4: [101, 2047, 7677, 8024, 1010, 2054, 1996, 3109, 1029, 102]\n",
      "Decoded Sequence 4: [CLS] newyork, what the hell? [SEP]\n",
      "\n",
      "Encoded Sequence 5: [101, 2129, 2003, 7955, 2725, 30522, 1029, 102]\n",
      "Decoded Sequence 5: [CLS] how is everybody doing <s>? [SEP]\n",
      "\n"
     ]
    }
   ],
   "source": [
    "# Encode each sequence in the list\n",
    "input_ids = [tokenizer.encode(sequence, add_special_tokens=True) for sequence in sequences]\n",
    "for i, input_id in enumerate(input_ids):\n",
    "    print(f\"Encoded Sequence {i+1}: {input_id}\")\n",
    "    print(f\"Decoded Sequence {i+1}: {tokenizer.decode(input_id)}\\n\")\n",
    "\n",
    "# <s> is encoded to 30522"
   ]
  }
 ],
 "metadata": {
  "kernelspec": {
   "display_name": "ldm",
   "language": "python",
   "name": "python3"
  },
  "language_info": {
   "codemirror_mode": {
    "name": "ipython",
    "version": 3
   },
   "file_extension": ".py",
   "mimetype": "text/x-python",
   "name": "python",
   "nbconvert_exporter": "python",
   "pygments_lexer": "ipython3",
   "version": "3.11.4"
  },
  "orig_nbformat": 4
 },
 "nbformat": 4,
 "nbformat_minor": 2
}
